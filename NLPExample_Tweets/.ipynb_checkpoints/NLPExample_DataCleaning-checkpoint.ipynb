{
 "cells": [
  {
   "cell_type": "markdown",
   "metadata": {},
   "source": [
    "# NLP Example, Twitter Tweets <img style=\"float: right; width: 310px;\" src=\"./Data/Twitter_Logo.jpg\"/>  \n",
    "  \n",
    "---  \n",
    "\n",
    "### By: Heather M. Steich, M.S.\n",
    "### Date: October 29$^{th}$, 2017\n",
    "### Written in: Python 3.4.5"
   ]
  },
  {
   "cell_type": "code",
   "execution_count": 1,
   "metadata": {
    "collapsed": false
   },
   "outputs": [
    {
     "name": "stdout",
     "output_type": "stream",
     "text": [
      "3.4.5 |Anaconda custom (64-bit)| (default, Jul  5 2016, 14:53:07) [MSC v.1600 64 bit (AMD64)]\n"
     ]
    }
   ],
   "source": [
    "import sys\n",
    "print(sys.version)"
   ]
  },
  {
   "cell_type": "markdown",
   "metadata": {},
   "source": [
    "---  \n",
    "  \n",
    "## Dataset Credit  \n",
    "  \n",
    "  \n",
    "The data used for this project is used with permission (if cited) from the following source:  \n",
    "\n",
    "    Z. Cheng, J. Caverlee, and K. Lee. You Are Where You Tweet: A Content-Based Approach to Geo-locating Twitter Users. \n",
    "    In Proceeding of the 19th ACM Conference on Information and Knowledge Management (CIKM), Toronto, Oct 2010. (Bibtex)\n",
    "\n",
    "<https://archive.org/details/twitter_cikm_2010><img style=\"float: center;\" src=\"./Data/paper_logo.gif\">"
   ]
  },
  {
   "cell_type": "markdown",
   "metadata": {},
   "source": [
    "---  \n",
    "\n",
    "## Overview\n",
    "\n",
    "The goal of the exercise is to extract information about concert appearances of musicians, performers or bands.  For each such tweet, we are looking to extract:  \n",
    "\n",
    " - Who was the performer  \n",
    " - When was the show  \n",
    " - Where was the show  \n",
    " - The Tweeter user who attended it  \n",
    " - The sentiment of the tweet  \n",
    "   \n",
    "Not all of these fields are available in all tweets, and that’s ok.  "
   ]
  },
  {
   "cell_type": "markdown",
   "metadata": {},
   "source": [
    "Each row in the dataset includes the user id who sent the tweet and the timestamp for the tweet. For the ‘when’ field, we are interested in the date of the show (not just the tweet). We are not interested in any other tweets, including tweets about performers which don’t mention concerts."
   ]
  },
  {
   "cell_type": "markdown",
   "metadata": {},
   "source": [
    "---  \n",
    "  \n",
    "# Part 1: Prepare the Data  \n",
    "  \n",
    "### - Step 1: Load the required libraries"
   ]
  },
  {
   "cell_type": "code",
   "execution_count": 1,
   "metadata": {
    "collapsed": true
   },
   "outputs": [],
   "source": [
    "## LOAD LIBRARIES\n",
    "\n",
    "# Data wrangling & processing: \n",
    "import numpy as np\n",
    "import pandas as pd\n",
    "\n",
    "# Remove warning messages:\n",
    "#import warnings\n",
    "#warnings.filterwarnings('ignore')"
   ]
  },
  {
   "cell_type": "markdown",
   "metadata": {},
   "source": [
    "---  \n",
    "  \n",
    "### - Step 2: Load & view the data"
   ]
  },
  {
   "cell_type": "code",
   "execution_count": 83,
   "metadata": {
    "collapsed": false
   },
   "outputs": [
    {
     "name": "stdout",
     "output_type": "stream",
     "text": [
      "Train Shape: (3822473, 1)\n",
      "Train Column Names: Index(['A'], dtype='object')\n",
      "\n",
      "Test Shape: (5150011, 1)\n",
      "Test Column Names: Index(['A'], dtype='object')\n"
     ]
    }
   ],
   "source": [
    "## LOAD DATA:\n",
    "\n",
    "# Read in the files:\n",
    "train = pd.read_csv(\"./Data/training_set_tweets.txt\", delimiter=\"\\n\", names='A') \n",
    "test = pd.read_csv(\"./Data/test_set_tweets.txt\", delimiter=\"\\n\", names='A')\n",
    "\n",
    "# Print shapes:\n",
    "print('Train Shape:', train.shape)\n",
    "print('Train Column Names:', train.columns)\n",
    "print('\\nTest Shape:', test.shape)\n",
    "print('Test Column Names:', test.columns)"
   ]
  },
  {
   "cell_type": "code",
   "execution_count": 84,
   "metadata": {
    "collapsed": false
   },
   "outputs": [
    {
     "data": {
      "text/html": [
       "<div>\n",
       "<table border=\"1\" class=\"dataframe\">\n",
       "  <thead>\n",
       "    <tr style=\"text-align: right;\">\n",
       "      <th></th>\n",
       "      <th>A</th>\n",
       "    </tr>\n",
       "  </thead>\n",
       "  <tbody>\n",
       "    <tr>\n",
       "      <th>0</th>\n",
       "      <td>60730027\\t6320951896\\t@thediscovietnam coo.  t...</td>\n",
       "    </tr>\n",
       "    <tr>\n",
       "      <th>1</th>\n",
       "      <td>60730027\\t6320673258\\t@thediscovietnam shit it...</td>\n",
       "    </tr>\n",
       "    <tr>\n",
       "      <th>2</th>\n",
       "      <td>60730027\\t6319871652\\t@thediscovietnam hey cod...</td>\n",
       "    </tr>\n",
       "    <tr>\n",
       "      <th>3</th>\n",
       "      <td>60730027\\t6318151501\\t@smokinvinyl dang.  you ...</td>\n",
       "    </tr>\n",
       "    <tr>\n",
       "      <th>4</th>\n",
       "      <td>60730027\\t6317932721\\tmaybe i'm late in the ga...</td>\n",
       "    </tr>\n",
       "  </tbody>\n",
       "</table>\n",
       "</div>"
      ],
      "text/plain": [
       "                                                   A\n",
       "0  60730027\\t6320951896\\t@thediscovietnam coo.  t...\n",
       "1  60730027\\t6320673258\\t@thediscovietnam shit it...\n",
       "2  60730027\\t6319871652\\t@thediscovietnam hey cod...\n",
       "3  60730027\\t6318151501\\t@smokinvinyl dang.  you ...\n",
       "4  60730027\\t6317932721\\tmaybe i'm late in the ga..."
      ]
     },
     "execution_count": 84,
     "metadata": {},
     "output_type": "execute_result"
    }
   ],
   "source": [
    "## PRINT A PREVIEW OF THE DATAFRAMES:\n",
    "\n",
    "train.head()"
   ]
  },
  {
   "cell_type": "code",
   "execution_count": 85,
   "metadata": {
    "collapsed": false
   },
   "outputs": [
    {
     "data": {
      "text/html": [
       "<div>\n",
       "<table border=\"1\" class=\"dataframe\">\n",
       "  <thead>\n",
       "    <tr style=\"text-align: right;\">\n",
       "      <th></th>\n",
       "      <th>A</th>\n",
       "    </tr>\n",
       "  </thead>\n",
       "  <tbody>\n",
       "    <tr>\n",
       "      <th>0</th>\n",
       "      <td>22077441\\t10538487904\\tOk today I have to find...</td>\n",
       "    </tr>\n",
       "    <tr>\n",
       "      <th>1</th>\n",
       "      <td>22077441\\t10536835844\\tI am glad I'm having th...</td>\n",
       "    </tr>\n",
       "    <tr>\n",
       "      <th>2</th>\n",
       "      <td>22077441\\t10536809086\\tHonestly I don't even k...</td>\n",
       "    </tr>\n",
       "    <tr>\n",
       "      <th>3</th>\n",
       "      <td>22077441\\t10534149786\\t@LovelyJ_Janelle hey so...</td>\n",
       "    </tr>\n",
       "    <tr>\n",
       "      <th>4</th>\n",
       "      <td>22077441\\t10530203659\\tSitting infront of this...</td>\n",
       "    </tr>\n",
       "  </tbody>\n",
       "</table>\n",
       "</div>"
      ],
      "text/plain": [
       "                                                   A\n",
       "0  22077441\\t10538487904\\tOk today I have to find...\n",
       "1  22077441\\t10536835844\\tI am glad I'm having th...\n",
       "2  22077441\\t10536809086\\tHonestly I don't even k...\n",
       "3  22077441\\t10534149786\\t@LovelyJ_Janelle hey so...\n",
       "4  22077441\\t10530203659\\tSitting infront of this..."
      ]
     },
     "execution_count": 85,
     "metadata": {},
     "output_type": "execute_result"
    }
   ],
   "source": [
    "test.head()"
   ]
  },
  {
   "cell_type": "markdown",
   "metadata": {},
   "source": [
    "---  \n",
    "  \n",
    "### - Step 3: Prepare the data"
   ]
  },
  {
   "cell_type": "code",
   "execution_count": 112,
   "metadata": {
    "collapsed": false
   },
   "outputs": [],
   "source": [
    "## DEFINE A FUNCTION TO PROPERLY STRUCTURE THE DATA:\n",
    "\n",
    "def restructure_data(df):\n",
    "    print('Starting phase 1!')\n",
    "    \n",
    "    global split_df\n",
    "    split_df = df['A'].str.split('\\t', 3, expand=True)\n",
    "    split_df.columns = ['UserID', 'tTweetID', 'tTweet', 'tCreatedAt']\n",
    "            \n",
    "    bad_rows = split_df[~split_df.UserID.str.isnumeric()].index\n",
    "            \n",
    "    while True:\n",
    "        if bad_rows.shape[0] > 0:\n",
    "            #print(' ', bad_rows.shape[0])\n",
    "                    \n",
    "            bad_rows = df.iloc[bad_rows, :]\n",
    "            bad_rows.index = bad_rows.index - 1\n",
    "                    \n",
    "            good_rows = split_df[split_df.UserID.str.isnumeric()].index\n",
    "            good_rows = df.iloc[good_rows, :]\n",
    "                    \n",
    "            combined_df = pd.concat([good_rows, bad_rows], axis=1)\n",
    "            combined_df.columns = ['A', 'B']\n",
    "                    \n",
    "            df = pd.DataFrame((combined_df['A'].fillna('') + \n",
    "                               combined_df['B'].fillna('')), \n",
    "                               columns=['A']).reset_index(drop=True)\n",
    "                    \n",
    "            split_df = df['A'].str.split('\\t', 3, expand=True)\n",
    "            split_df.columns = ['UserID', 'tTweetID', 'tTweet', 'tCreatedAt']\n",
    "            \n",
    "            bad_rows = split_df[~split_df.UserID.str.isnumeric()].index\n",
    "                \n",
    "        else:\n",
    "            print('Done with phase 1!')\n",
    "                    \n",
    "            bad_rows = split_df[split_df.tTweetID.isnull()].index\n",
    "\n",
    "            while True:\n",
    "                if bad_rows.shape[0] > 0:\n",
    "                    #print('  ', bad_rows.shape[0])\n",
    "                            \n",
    "                    bad_rows = df.iloc[bad_rows, :]\n",
    "                    bad_rows.index = bad_rows.index - 1\n",
    "\n",
    "                    good_rows = split_df[~split_df.tTweetID.isnull()].index\n",
    "                    good_rows = df.iloc[good_rows, :]\n",
    "\n",
    "                    combined_df = pd.concat([good_rows, bad_rows], axis=1)\n",
    "                    combined_df.columns = ['A', 'B']\n",
    "\n",
    "                    df = pd.DataFrame((combined_df['A'].fillna('') + \n",
    "                                       combined_df['B'].fillna('')), \n",
    "                                       columns=['A']).reset_index(drop=True)\n",
    "\n",
    "                    split_df = df['A'].str.split('\\t', 3, expand=True)\n",
    "                    split_df.columns = ['UserID', 'tTweetID', 'tTweet', 'tCreatedAt']\n",
    "\n",
    "                    bad_rows = split_df[split_df.tTweetID.isnull()].index\n",
    "\n",
    "                else:\n",
    "                    print('Done with phase 2!')\n",
    "                    \n",
    "                    bad_rows = split_df[~split_df.tTweetID.str.isnumeric()].index\n",
    "\n",
    "                    while True:\n",
    "                        if bad_rows.shape[0] > 0:\n",
    "                            #print('   ', bad_rows.shape[0])\n",
    "\n",
    "                            bad_rows = df.iloc[bad_rows, :]\n",
    "                            bad_rows.index = bad_rows.index - 1\n",
    "\n",
    "                            good_rows = split_df[split_df.tTweetID.str.isnumeric()].index\n",
    "                            good_rows = df.iloc[good_rows, :]\n",
    "\n",
    "                            combined_df = pd.concat([good_rows, bad_rows], axis=1)\n",
    "                            combined_df.columns = ['A', 'B']\n",
    "\n",
    "                            df = pd.DataFrame((combined_df['A'].fillna('') + \n",
    "                                               combined_df['B'].fillna('')), \n",
    "                                               columns=['A']).reset_index(drop=True)\n",
    "\n",
    "                            split_df = df['A'].str.split('\\t', 3, expand=True)\n",
    "                            split_df.columns = ['UserID', 'tTweetID', 'tTweet', 'tCreatedAt']\n",
    "\n",
    "                            bad_rows = split_df[~split_df.tTweetID.str.isnumeric()].index\n",
    "\n",
    "                        else:\n",
    "                            print('Done with phase 3!')\n",
    "                                    \n",
    "                            strip_timestamps = df['A'].str.rsplit('\\t', 1, expand=True)\n",
    "                            other_columns = strip_timestamps[0].str.split('\\t', 2, expand=True)\n",
    "                            split_df = pd.concat([other_columns, strip_timestamps[1]], axis=1)\n",
    "                            split_df.columns = ['UserID', 'tTweetID', 'tTweet', 'tCreatedAt']\n",
    "                                    \n",
    "                            split_df.UserID = split_df.UserID.astype(np.int64)\n",
    "                            split_df.tTweetID = split_df.tTweetID.astype(np.int64)\n",
    "                            split_df.tCreatedAt = pd.to_datetime(split_df.tCreatedAt) #split_df.tCreatedAt.astype(np.datetime64)\n",
    "                            \n",
    "                            print('Dataset completed!\\n')\n",
    "                            return split_df"
   ]
  },
  {
   "cell_type": "code",
   "execution_count": 113,
   "metadata": {
    "collapsed": false,
    "scrolled": false
   },
   "outputs": [
    {
     "name": "stdout",
     "output_type": "stream",
     "text": [
      "  80516\n",
      "  12604\n",
      "  3386\n",
      "  1302\n",
      "  607\n",
      "  319\n",
      "  168\n",
      "  91\n",
      "  49\n",
      "  19\n",
      "  8\n",
      "  6\n",
      "  5\n",
      "  3\n",
      "  1\n",
      "Done with phase 1!\n",
      "Done with phase 2!\n",
      "    22\n",
      "    7\n",
      "    5\n",
      "    3\n",
      "    2\n",
      "    1\n",
      "Done with phase 3!\n"
     ]
    }
   ],
   "source": [
    "## APPLY THE RESTRUCTURING FUNCTION TO THE TRAINING & TEST SETS:\n",
    "## (This will take several minutes to run.)\n",
    "\n",
    "train_df = restructure_data(train)\n",
    "test_df = restructure_data(test)\n",
    "\n",
    "# Print corrected shapes:\n",
    "print('Corrected Train Shape:', train_df.shape)\n",
    "print('\\nCorrected Test Shape:', test_df.shape)"
   ]
  },
  {
   "cell_type": "markdown",
   "metadata": {},
   "source": [
    "---  \n",
    "  \n",
    "### - Step 4: Validate that the restructured data is correct"
   ]
  },
  {
   "cell_type": "code",
   "execution_count": 138,
   "metadata": {
    "collapsed": false
   },
   "outputs": [
    {
     "name": "stdout",
     "output_type": "stream",
     "text": [
      "Training:\n",
      " UserID                 int64\n",
      "tTweetID               int64\n",
      "tTweet                object\n",
      "tCreatedAt    datetime64[ns]\n",
      "dtype: object\n",
      "\n",
      "Testing:\n",
      " UserID                 int64\n",
      "tTweetID               int64\n",
      "tTweet                object\n",
      "tCreatedAt    datetime64[ns]\n",
      "dtype: object\n"
     ]
    }
   ],
   "source": [
    "## CHECK DATA TYPES:\n",
    "\n",
    "print('Training:\\n', train_df.dtypes)\n",
    "print('\\nTesting:\\n', test_df.dtypes)"
   ]
  },
  {
   "cell_type": "code",
   "execution_count": 133,
   "metadata": {
    "collapsed": false,
    "scrolled": true
   },
   "outputs": [
    {
     "name": "stdout",
     "output_type": "stream",
     "text": [
      "Missing Data in Training Set:\n",
      " 0\n",
      "Missing Data in Testing Set:\n",
      " 0\n"
     ]
    }
   ],
   "source": [
    "## CHECK FOR MISSING VALUES:\n",
    "\n",
    "print('Missing Data in Training Set:\\n', train_df.isnull().sum().values.sum())\n",
    "print('Missing Data in Testing Set:\\n', test_df.isnull().sum().values.sum())"
   ]
  },
  {
   "cell_type": "code",
   "execution_count": 162,
   "metadata": {
    "collapsed": false
   },
   "outputs": [
    {
     "data": {
      "text/html": [
       "<div>\n",
       "<table border=\"1\" class=\"dataframe\">\n",
       "  <thead>\n",
       "    <tr style=\"text-align: right;\">\n",
       "      <th></th>\n",
       "      <th>UserID</th>\n",
       "      <th>tTweetID</th>\n",
       "      <th>tTweet</th>\n",
       "      <th>tCreatedAt</th>\n",
       "    </tr>\n",
       "  </thead>\n",
       "  <tbody>\n",
       "    <tr>\n",
       "      <th>259</th>\n",
       "      <td>14</td>\n",
       "      <td>1004190858</td>\n",
       "      <td>Giving 60 dictionaries to 60 highly energetic ...</td>\n",
       "      <td>2008-11-13 11:55:58</td>\n",
       "    </tr>\n",
       "    <tr>\n",
       "      <th>283</th>\n",
       "      <td>14</td>\n",
       "      <td>4119972522</td>\n",
       "      <td>ound like French summer.</td>\n",
       "      <td>2009-09-20 02:21:31</td>\n",
       "    </tr>\n",
       "    <tr>\n",
       "      <th>284</th>\n",
       "      <td>14</td>\n",
       "      <td>3881145051</td>\n",
       "      <td>fireworks blast over Santa Monica scattering s...</td>\n",
       "      <td>2009-09-09 23:44:42</td>\n",
       "    </tr>\n",
       "    <tr>\n",
       "      <th>285</th>\n",
       "      <td>14</td>\n",
       "      <td>3599227170</td>\n",
       "      <td>today my prototype danced for me. perfect piro...</td>\n",
       "      <td>2009-08-28 03:52:22</td>\n",
       "    </tr>\n",
       "    <tr>\n",
       "      <th>286</th>\n",
       "      <td>14</td>\n",
       "      <td>3324787395</td>\n",
       "      <td>If Kafka gave birth atop the trade center towe...</td>\n",
       "      <td>2009-08-15 02:09:23</td>\n",
       "    </tr>\n",
       "  </tbody>\n",
       "</table>\n",
       "</div>"
      ],
      "text/plain": [
       "     UserID    tTweetID                                             tTweet  \\\n",
       "259      14  1004190858  Giving 60 dictionaries to 60 highly energetic ...   \n",
       "283      14  4119972522                           ound like French summer.   \n",
       "284      14  3881145051  fireworks blast over Santa Monica scattering s...   \n",
       "285      14  3599227170  today my prototype danced for me. perfect piro...   \n",
       "286      14  3324787395  If Kafka gave birth atop the trade center towe...   \n",
       "\n",
       "             tCreatedAt  \n",
       "259 2008-11-13 11:55:58  \n",
       "283 2009-09-20 02:21:31  \n",
       "284 2009-09-09 23:44:42  \n",
       "285 2009-08-28 03:52:22  \n",
       "286 2009-08-15 02:09:23  "
      ]
     },
     "execution_count": 162,
     "metadata": {},
     "output_type": "execute_result"
    }
   ],
   "source": [
    "## CHECK HEADS & TAILS OF EACH SORTED COLUMN:\n",
    "\n",
    "train_df.sort_values(by='UserID').head()"
   ]
  },
  {
   "cell_type": "code",
   "execution_count": 163,
   "metadata": {
    "collapsed": false
   },
   "outputs": [
    {
     "data": {
      "text/html": [
       "<div>\n",
       "<table border=\"1\" class=\"dataframe\">\n",
       "  <thead>\n",
       "    <tr style=\"text-align: right;\">\n",
       "      <th></th>\n",
       "      <th>UserID</th>\n",
       "      <th>tTweetID</th>\n",
       "      <th>tTweet</th>\n",
       "      <th>tCreatedAt</th>\n",
       "    </tr>\n",
       "  </thead>\n",
       "  <tbody>\n",
       "    <tr>\n",
       "      <th>2189710</th>\n",
       "      <td>95260481</td>\n",
       "      <td>6470419090</td>\n",
       "      <td>get paid with paypal everyweek no hard work ne...</td>\n",
       "      <td>2009-12-08 12:10:01</td>\n",
       "    </tr>\n",
       "    <tr>\n",
       "      <th>2189709</th>\n",
       "      <td>95260481</td>\n",
       "      <td>6470548793</td>\n",
       "      <td>I get paid Online making about 12k a Month wor...</td>\n",
       "      <td>2009-12-08 12:14:34</td>\n",
       "    </tr>\n",
       "    <tr>\n",
       "      <th>2189708</th>\n",
       "      <td>95260481</td>\n",
       "      <td>6470585312</td>\n",
       "      <td>How is the new Jay-z album should i buy it or ...</td>\n",
       "      <td>2009-12-08 12:15:50</td>\n",
       "    </tr>\n",
       "    <tr>\n",
       "      <th>2189706</th>\n",
       "      <td>95260481</td>\n",
       "      <td>6470751598</td>\n",
       "      <td>What's this all about all I can say is you hav...</td>\n",
       "      <td>2009-12-08 12:22:08</td>\n",
       "    </tr>\n",
       "    <tr>\n",
       "      <th>2189734</th>\n",
       "      <td>95260481</td>\n",
       "      <td>6468176439</td>\n",
       "      <td>nearly my son's birthday he loves disney cars,...</td>\n",
       "      <td>2009-12-08 10:45:57</td>\n",
       "    </tr>\n",
       "  </tbody>\n",
       "</table>\n",
       "</div>"
      ],
      "text/plain": [
       "           UserID    tTweetID  \\\n",
       "2189710  95260481  6470419090   \n",
       "2189709  95260481  6470548793   \n",
       "2189708  95260481  6470585312   \n",
       "2189706  95260481  6470751598   \n",
       "2189734  95260481  6468176439   \n",
       "\n",
       "                                                    tTweet          tCreatedAt  \n",
       "2189710  get paid with paypal everyweek no hard work ne... 2009-12-08 12:10:01  \n",
       "2189709  I get paid Online making about 12k a Month wor... 2009-12-08 12:14:34  \n",
       "2189708  How is the new Jay-z album should i buy it or ... 2009-12-08 12:15:50  \n",
       "2189706  What's this all about all I can say is you hav... 2009-12-08 12:22:08  \n",
       "2189734  nearly my son's birthday he loves disney cars,... 2009-12-08 10:45:57  "
      ]
     },
     "execution_count": 163,
     "metadata": {},
     "output_type": "execute_result"
    }
   ],
   "source": [
    "train_df.sort_values(by='UserID').tail()"
   ]
  },
  {
   "cell_type": "code",
   "execution_count": 164,
   "metadata": {
    "collapsed": false
   },
   "outputs": [
    {
     "data": {
      "text/html": [
       "<div>\n",
       "<table border=\"1\" class=\"dataframe\">\n",
       "  <thead>\n",
       "    <tr style=\"text-align: right;\">\n",
       "      <th></th>\n",
       "      <th>UserID</th>\n",
       "      <th>tTweetID</th>\n",
       "      <th>tTweet</th>\n",
       "      <th>tCreatedAt</th>\n",
       "    </tr>\n",
       "  </thead>\n",
       "  <tbody>\n",
       "    <tr>\n",
       "      <th>119368</th>\n",
       "      <td>5622</td>\n",
       "      <td>28191</td>\n",
       "      <td>trying to figure out what this thing is.</td>\n",
       "      <td>2006-09-10 11:07:07</td>\n",
       "    </tr>\n",
       "    <tr>\n",
       "      <th>825210</th>\n",
       "      <td>38323</td>\n",
       "      <td>581203</td>\n",
       "      <td>Getting ready to go to the Improv Olympic to s...</td>\n",
       "      <td>2006-12-02 21:34:25</td>\n",
       "    </tr>\n",
       "    <tr>\n",
       "      <th>1663297</th>\n",
       "      <td>690103</td>\n",
       "      <td>3873613</td>\n",
       "      <td>Customer support is no fun at all.</td>\n",
       "      <td>2007-01-23 18:07:29</td>\n",
       "    </tr>\n",
       "    <tr>\n",
       "      <th>1663296</th>\n",
       "      <td>690103</td>\n",
       "      <td>3880013</td>\n",
       "      <td>I am still doing customer support</td>\n",
       "      <td>2007-01-23 19:01:33</td>\n",
       "    </tr>\n",
       "    <tr>\n",
       "      <th>1663295</th>\n",
       "      <td>690103</td>\n",
       "      <td>3880323</td>\n",
       "      <td>Bryan is a nice guy cause he thinks I shouldn'...</td>\n",
       "      <td>2007-01-23 19:04:58</td>\n",
       "    </tr>\n",
       "  </tbody>\n",
       "</table>\n",
       "</div>"
      ],
      "text/plain": [
       "         UserID  tTweetID                                             tTweet  \\\n",
       "119368     5622     28191           trying to figure out what this thing is.   \n",
       "825210    38323    581203  Getting ready to go to the Improv Olympic to s...   \n",
       "1663297  690103   3873613                 Customer support is no fun at all.   \n",
       "1663296  690103   3880013                  I am still doing customer support   \n",
       "1663295  690103   3880323  Bryan is a nice guy cause he thinks I shouldn'...   \n",
       "\n",
       "                 tCreatedAt  \n",
       "119368  2006-09-10 11:07:07  \n",
       "825210  2006-12-02 21:34:25  \n",
       "1663297 2007-01-23 18:07:29  \n",
       "1663296 2007-01-23 19:01:33  \n",
       "1663295 2007-01-23 19:04:58  "
      ]
     },
     "execution_count": 164,
     "metadata": {},
     "output_type": "execute_result"
    }
   ],
   "source": [
    "train_df.sort_values(by='tTweetID').head()"
   ]
  },
  {
   "cell_type": "code",
   "execution_count": 165,
   "metadata": {
    "collapsed": false
   },
   "outputs": [
    {
     "data": {
      "text/html": [
       "<div>\n",
       "<table border=\"1\" class=\"dataframe\">\n",
       "  <thead>\n",
       "    <tr style=\"text-align: right;\">\n",
       "      <th></th>\n",
       "      <th>UserID</th>\n",
       "      <th>tTweetID</th>\n",
       "      <th>tTweet</th>\n",
       "      <th>tCreatedAt</th>\n",
       "    </tr>\n",
       "  </thead>\n",
       "  <tbody>\n",
       "    <tr>\n",
       "      <th>552720</th>\n",
       "      <td>22307857</td>\n",
       "      <td>6485532854</td>\n",
       "      <td>NYC at holiday time, can't go wrong. Ate with ...</td>\n",
       "      <td>2009-12-08 21:27:36</td>\n",
       "    </tr>\n",
       "    <tr>\n",
       "      <th>1738094</th>\n",
       "      <td>15676578</td>\n",
       "      <td>6485597908</td>\n",
       "      <td>Spoiler: Find out who won Biggest Loser! http:...</td>\n",
       "      <td>2009-12-08 21:29:53</td>\n",
       "    </tr>\n",
       "    <tr>\n",
       "      <th>1672933</th>\n",
       "      <td>22097952</td>\n",
       "      <td>6485873515</td>\n",
       "      <td>@katelynroseee hahaha. I mean, New York Style ...</td>\n",
       "      <td>2009-12-08 21:39:27</td>\n",
       "    </tr>\n",
       "    <tr>\n",
       "      <th>108263</th>\n",
       "      <td>34739186</td>\n",
       "      <td>6486280798</td>\n",
       "      <td>WOW! Cardio Barre was AMAZING-I had no idea u ...</td>\n",
       "      <td>2009-12-08 21:54:03</td>\n",
       "    </tr>\n",
       "    <tr>\n",
       "      <th>108262</th>\n",
       "      <td>34739186</td>\n",
       "      <td>6486831431</td>\n",
       "      <td>Stop tweeting while we're at dinner!!! ;) RT @...</td>\n",
       "      <td>2009-12-08 22:14:24</td>\n",
       "    </tr>\n",
       "  </tbody>\n",
       "</table>\n",
       "</div>"
      ],
      "text/plain": [
       "           UserID    tTweetID  \\\n",
       "552720   22307857  6485532854   \n",
       "1738094  15676578  6485597908   \n",
       "1672933  22097952  6485873515   \n",
       "108263   34739186  6486280798   \n",
       "108262   34739186  6486831431   \n",
       "\n",
       "                                                    tTweet          tCreatedAt  \n",
       "552720   NYC at holiday time, can't go wrong. Ate with ... 2009-12-08 21:27:36  \n",
       "1738094  Spoiler: Find out who won Biggest Loser! http:... 2009-12-08 21:29:53  \n",
       "1672933  @katelynroseee hahaha. I mean, New York Style ... 2009-12-08 21:39:27  \n",
       "108263   WOW! Cardio Barre was AMAZING-I had no idea u ... 2009-12-08 21:54:03  \n",
       "108262   Stop tweeting while we're at dinner!!! ;) RT @... 2009-12-08 22:14:24  "
      ]
     },
     "execution_count": 165,
     "metadata": {},
     "output_type": "execute_result"
    }
   ],
   "source": [
    "train_df.sort_values(by='tTweetID').tail()"
   ]
  },
  {
   "cell_type": "code",
   "execution_count": 166,
   "metadata": {
    "collapsed": false
   },
   "outputs": [
    {
     "data": {
      "text/html": [
       "<div>\n",
       "<table border=\"1\" class=\"dataframe\">\n",
       "  <thead>\n",
       "    <tr style=\"text-align: right;\">\n",
       "      <th></th>\n",
       "      <th>UserID</th>\n",
       "      <th>tTweetID</th>\n",
       "      <th>tTweet</th>\n",
       "      <th>tCreatedAt</th>\n",
       "    </tr>\n",
       "  </thead>\n",
       "  <tbody>\n",
       "    <tr>\n",
       "      <th>166674</th>\n",
       "      <td>20192982</td>\n",
       "      <td>1251289107</td>\n",
       "      <td>!</td>\n",
       "      <td>2009-02-25 16:57:39</td>\n",
       "    </tr>\n",
       "    <tr>\n",
       "      <th>3353374</th>\n",
       "      <td>65642903</td>\n",
       "      <td>4123445005</td>\n",
       "      <td>!</td>\n",
       "      <td>2009-09-20 08:09:00</td>\n",
       "    </tr>\n",
       "    <tr>\n",
       "      <th>76889</th>\n",
       "      <td>15863302</td>\n",
       "      <td>5658023171</td>\n",
       "      <td>!</td>\n",
       "      <td>2009-11-12 14:00:34</td>\n",
       "    </tr>\n",
       "    <tr>\n",
       "      <th>2161550</th>\n",
       "      <td>17926620</td>\n",
       "      <td>6287028586</td>\n",
       "      <td>!</td>\n",
       "      <td>2009-12-02 18:37:42</td>\n",
       "    </tr>\n",
       "    <tr>\n",
       "      <th>218118</th>\n",
       "      <td>30681120</td>\n",
       "      <td>5744360824</td>\n",
       "      <td>!</td>\n",
       "      <td>2009-11-15 14:11:25</td>\n",
       "    </tr>\n",
       "  </tbody>\n",
       "</table>\n",
       "</div>"
      ],
      "text/plain": [
       "           UserID    tTweetID tTweet          tCreatedAt\n",
       "166674   20192982  1251289107      ! 2009-02-25 16:57:39\n",
       "3353374  65642903  4123445005      ! 2009-09-20 08:09:00\n",
       "76889    15863302  5658023171      ! 2009-11-12 14:00:34\n",
       "2161550  17926620  6287028586      ! 2009-12-02 18:37:42\n",
       "218118   30681120  5744360824      ! 2009-11-15 14:11:25"
      ]
     },
     "execution_count": 166,
     "metadata": {},
     "output_type": "execute_result"
    }
   ],
   "source": [
    "train_df.sort_values(by='tTweet').head()"
   ]
  },
  {
   "cell_type": "code",
   "execution_count": 167,
   "metadata": {
    "collapsed": false
   },
   "outputs": [
    {
     "data": {
      "text/html": [
       "<div>\n",
       "<table border=\"1\" class=\"dataframe\">\n",
       "  <thead>\n",
       "    <tr style=\"text-align: right;\">\n",
       "      <th></th>\n",
       "      <th>UserID</th>\n",
       "      <th>tTweetID</th>\n",
       "      <th>tTweet</th>\n",
       "      <th>tCreatedAt</th>\n",
       "    </tr>\n",
       "  </thead>\n",
       "  <tbody>\n",
       "    <tr>\n",
       "      <th>2822022</th>\n",
       "      <td>29392455</td>\n",
       "      <td>4164281228</td>\n",
       "      <td>１日ほんの数ページずつですが、坂の上の雲を再読中、以前は完全に龍馬がゆく派だったが、変わったかも。</td>\n",
       "      <td>2009-09-21 22:09:00</td>\n",
       "    </tr>\n",
       "    <tr>\n",
       "      <th>3564787</th>\n",
       "      <td>22874169</td>\n",
       "      <td>4333563740</td>\n",
       "      <td>３年前酔っぱらってリバースしたコロナビール飲んでます。酒もってこーい！！</td>\n",
       "      <td>2009-09-23 22:35:03</td>\n",
       "    </tr>\n",
       "    <tr>\n",
       "      <th>3036928</th>\n",
       "      <td>52706200</td>\n",
       "      <td>4118931198</td>\n",
       "      <td>４月にサンディエゴで始まる予定のアニメのイベント。その名も「アニメ漢字」ーＡＮＩＭＥ　ＣＯＮ...</td>\n",
       "      <td>2009-09-20 00:09:00</td>\n",
       "    </tr>\n",
       "    <tr>\n",
       "      <th>3415132</th>\n",
       "      <td>14330200</td>\n",
       "      <td>3991134830</td>\n",
       "      <td>９月１５日、火曜日。曇り。</td>\n",
       "      <td>2009-09-14 18:09:00</td>\n",
       "    </tr>\n",
       "    <tr>\n",
       "      <th>3532366</th>\n",
       "      <td>34374919</td>\n",
       "      <td>4119614535</td>\n",
       "      <td>�Red' Sims will always love �his' boys: During...</td>\n",
       "      <td>2009-09-20 01:09:00</td>\n",
       "    </tr>\n",
       "  </tbody>\n",
       "</table>\n",
       "</div>"
      ],
      "text/plain": [
       "           UserID    tTweetID  \\\n",
       "2822022  29392455  4164281228   \n",
       "3564787  22874169  4333563740   \n",
       "3036928  52706200  4118931198   \n",
       "3415132  14330200  3991134830   \n",
       "3532366  34374919  4119614535   \n",
       "\n",
       "                                                    tTweet          tCreatedAt  \n",
       "2822022  １日ほんの数ページずつですが、坂の上の雲を再読中、以前は完全に龍馬がゆく派だったが、変わったかも。 2009-09-21 22:09:00  \n",
       "3564787               ３年前酔っぱらってリバースしたコロナビール飲んでます。酒もってこーい！！ 2009-09-23 22:35:03  \n",
       "3036928  ４月にサンディエゴで始まる予定のアニメのイベント。その名も「アニメ漢字」ーＡＮＩＭＥ　ＣＯＮ... 2009-09-20 00:09:00  \n",
       "3415132                                      ９月１５日、火曜日。曇り。 2009-09-14 18:09:00  \n",
       "3532366  �Red' Sims will always love �his' boys: During... 2009-09-20 01:09:00  "
      ]
     },
     "execution_count": 167,
     "metadata": {},
     "output_type": "execute_result"
    }
   ],
   "source": [
    "train_df.sort_values(by='tTweet').tail()"
   ]
  },
  {
   "cell_type": "code",
   "execution_count": 168,
   "metadata": {
    "collapsed": false
   },
   "outputs": [
    {
     "data": {
      "text/html": [
       "<div>\n",
       "<table border=\"1\" class=\"dataframe\">\n",
       "  <thead>\n",
       "    <tr style=\"text-align: right;\">\n",
       "      <th></th>\n",
       "      <th>UserID</th>\n",
       "      <th>tTweetID</th>\n",
       "      <th>tTweet</th>\n",
       "      <th>tCreatedAt</th>\n",
       "    </tr>\n",
       "  </thead>\n",
       "  <tbody>\n",
       "    <tr>\n",
       "      <th>119368</th>\n",
       "      <td>5622</td>\n",
       "      <td>28191</td>\n",
       "      <td>trying to figure out what this thing is.</td>\n",
       "      <td>2006-09-10 11:07:07</td>\n",
       "    </tr>\n",
       "    <tr>\n",
       "      <th>825210</th>\n",
       "      <td>38323</td>\n",
       "      <td>581203</td>\n",
       "      <td>Getting ready to go to the Improv Olympic to s...</td>\n",
       "      <td>2006-12-02 21:34:25</td>\n",
       "    </tr>\n",
       "    <tr>\n",
       "      <th>1663297</th>\n",
       "      <td>690103</td>\n",
       "      <td>3873613</td>\n",
       "      <td>Customer support is no fun at all.</td>\n",
       "      <td>2007-01-23 18:07:29</td>\n",
       "    </tr>\n",
       "    <tr>\n",
       "      <th>1663296</th>\n",
       "      <td>690103</td>\n",
       "      <td>3880013</td>\n",
       "      <td>I am still doing customer support</td>\n",
       "      <td>2007-01-23 19:01:33</td>\n",
       "    </tr>\n",
       "    <tr>\n",
       "      <th>1663295</th>\n",
       "      <td>690103</td>\n",
       "      <td>3880323</td>\n",
       "      <td>Bryan is a nice guy cause he thinks I shouldn'...</td>\n",
       "      <td>2007-01-23 19:04:58</td>\n",
       "    </tr>\n",
       "  </tbody>\n",
       "</table>\n",
       "</div>"
      ],
      "text/plain": [
       "         UserID  tTweetID                                             tTweet  \\\n",
       "119368     5622     28191           trying to figure out what this thing is.   \n",
       "825210    38323    581203  Getting ready to go to the Improv Olympic to s...   \n",
       "1663297  690103   3873613                 Customer support is no fun at all.   \n",
       "1663296  690103   3880013                  I am still doing customer support   \n",
       "1663295  690103   3880323  Bryan is a nice guy cause he thinks I shouldn'...   \n",
       "\n",
       "                 tCreatedAt  \n",
       "119368  2006-09-10 11:07:07  \n",
       "825210  2006-12-02 21:34:25  \n",
       "1663297 2007-01-23 18:07:29  \n",
       "1663296 2007-01-23 19:01:33  \n",
       "1663295 2007-01-23 19:04:58  "
      ]
     },
     "execution_count": 168,
     "metadata": {},
     "output_type": "execute_result"
    }
   ],
   "source": [
    "train_df.sort_values(by='tCreatedAt').head()"
   ]
  },
  {
   "cell_type": "code",
   "execution_count": 169,
   "metadata": {
    "collapsed": false
   },
   "outputs": [
    {
     "data": {
      "text/html": [
       "<div>\n",
       "<table border=\"1\" class=\"dataframe\">\n",
       "  <thead>\n",
       "    <tr style=\"text-align: right;\">\n",
       "      <th></th>\n",
       "      <th>UserID</th>\n",
       "      <th>tTweetID</th>\n",
       "      <th>tTweet</th>\n",
       "      <th>tCreatedAt</th>\n",
       "    </tr>\n",
       "  </thead>\n",
       "  <tbody>\n",
       "    <tr>\n",
       "      <th>552720</th>\n",
       "      <td>22307857</td>\n",
       "      <td>6485532854</td>\n",
       "      <td>NYC at holiday time, can't go wrong. Ate with ...</td>\n",
       "      <td>2009-12-08 21:27:36</td>\n",
       "    </tr>\n",
       "    <tr>\n",
       "      <th>1738094</th>\n",
       "      <td>15676578</td>\n",
       "      <td>6485597908</td>\n",
       "      <td>Spoiler: Find out who won Biggest Loser! http:...</td>\n",
       "      <td>2009-12-08 21:29:53</td>\n",
       "    </tr>\n",
       "    <tr>\n",
       "      <th>1672933</th>\n",
       "      <td>22097952</td>\n",
       "      <td>6485873515</td>\n",
       "      <td>@katelynroseee hahaha. I mean, New York Style ...</td>\n",
       "      <td>2009-12-08 21:39:27</td>\n",
       "    </tr>\n",
       "    <tr>\n",
       "      <th>108263</th>\n",
       "      <td>34739186</td>\n",
       "      <td>6486280798</td>\n",
       "      <td>WOW! Cardio Barre was AMAZING-I had no idea u ...</td>\n",
       "      <td>2009-12-08 21:54:03</td>\n",
       "    </tr>\n",
       "    <tr>\n",
       "      <th>108262</th>\n",
       "      <td>34739186</td>\n",
       "      <td>6486831431</td>\n",
       "      <td>Stop tweeting while we're at dinner!!! ;) RT @...</td>\n",
       "      <td>2009-12-08 22:14:24</td>\n",
       "    </tr>\n",
       "  </tbody>\n",
       "</table>\n",
       "</div>"
      ],
      "text/plain": [
       "           UserID    tTweetID  \\\n",
       "552720   22307857  6485532854   \n",
       "1738094  15676578  6485597908   \n",
       "1672933  22097952  6485873515   \n",
       "108263   34739186  6486280798   \n",
       "108262   34739186  6486831431   \n",
       "\n",
       "                                                    tTweet          tCreatedAt  \n",
       "552720   NYC at holiday time, can't go wrong. Ate with ... 2009-12-08 21:27:36  \n",
       "1738094  Spoiler: Find out who won Biggest Loser! http:... 2009-12-08 21:29:53  \n",
       "1672933  @katelynroseee hahaha. I mean, New York Style ... 2009-12-08 21:39:27  \n",
       "108263   WOW! Cardio Barre was AMAZING-I had no idea u ... 2009-12-08 21:54:03  \n",
       "108262   Stop tweeting while we're at dinner!!! ;) RT @... 2009-12-08 22:14:24  "
      ]
     },
     "execution_count": 169,
     "metadata": {},
     "output_type": "execute_result"
    }
   ],
   "source": [
    "train_df.sort_values(by='tCreatedAt').tail()"
   ]
  },
  {
   "cell_type": "code",
   "execution_count": 162,
   "metadata": {
    "collapsed": false
   },
   "outputs": [
    {
     "data": {
      "text/html": [
       "<div>\n",
       "<table border=\"1\" class=\"dataframe\">\n",
       "  <thead>\n",
       "    <tr style=\"text-align: right;\">\n",
       "      <th></th>\n",
       "      <th>UserID</th>\n",
       "      <th>tTweetID</th>\n",
       "      <th>tTweet</th>\n",
       "      <th>tCreatedAt</th>\n",
       "    </tr>\n",
       "  </thead>\n",
       "  <tbody>\n",
       "    <tr>\n",
       "      <th>259</th>\n",
       "      <td>14</td>\n",
       "      <td>1004190858</td>\n",
       "      <td>Giving 60 dictionaries to 60 highly energetic ...</td>\n",
       "      <td>2008-11-13 11:55:58</td>\n",
       "    </tr>\n",
       "    <tr>\n",
       "      <th>283</th>\n",
       "      <td>14</td>\n",
       "      <td>4119972522</td>\n",
       "      <td>ound like French summer.</td>\n",
       "      <td>2009-09-20 02:21:31</td>\n",
       "    </tr>\n",
       "    <tr>\n",
       "      <th>284</th>\n",
       "      <td>14</td>\n",
       "      <td>3881145051</td>\n",
       "      <td>fireworks blast over Santa Monica scattering s...</td>\n",
       "      <td>2009-09-09 23:44:42</td>\n",
       "    </tr>\n",
       "    <tr>\n",
       "      <th>285</th>\n",
       "      <td>14</td>\n",
       "      <td>3599227170</td>\n",
       "      <td>today my prototype danced for me. perfect piro...</td>\n",
       "      <td>2009-08-28 03:52:22</td>\n",
       "    </tr>\n",
       "    <tr>\n",
       "      <th>286</th>\n",
       "      <td>14</td>\n",
       "      <td>3324787395</td>\n",
       "      <td>If Kafka gave birth atop the trade center towe...</td>\n",
       "      <td>2009-08-15 02:09:23</td>\n",
       "    </tr>\n",
       "  </tbody>\n",
       "</table>\n",
       "</div>"
      ],
      "text/plain": [
       "     UserID    tTweetID                                             tTweet  \\\n",
       "259      14  1004190858  Giving 60 dictionaries to 60 highly energetic ...   \n",
       "283      14  4119972522                           ound like French summer.   \n",
       "284      14  3881145051  fireworks blast over Santa Monica scattering s...   \n",
       "285      14  3599227170  today my prototype danced for me. perfect piro...   \n",
       "286      14  3324787395  If Kafka gave birth atop the trade center towe...   \n",
       "\n",
       "             tCreatedAt  \n",
       "259 2008-11-13 11:55:58  \n",
       "283 2009-09-20 02:21:31  \n",
       "284 2009-09-09 23:44:42  \n",
       "285 2009-08-28 03:52:22  \n",
       "286 2009-08-15 02:09:23  "
      ]
     },
     "execution_count": 162,
     "metadata": {},
     "output_type": "execute_result"
    }
   ],
   "source": [
    "test_df.sort_values(by='UserID').head()"
   ]
  },
  {
   "cell_type": "code",
   "execution_count": 162,
   "metadata": {
    "collapsed": false
   },
   "outputs": [
    {
     "data": {
      "text/html": [
       "<div>\n",
       "<table border=\"1\" class=\"dataframe\">\n",
       "  <thead>\n",
       "    <tr style=\"text-align: right;\">\n",
       "      <th></th>\n",
       "      <th>UserID</th>\n",
       "      <th>tTweetID</th>\n",
       "      <th>tTweet</th>\n",
       "      <th>tCreatedAt</th>\n",
       "    </tr>\n",
       "  </thead>\n",
       "  <tbody>\n",
       "    <tr>\n",
       "      <th>259</th>\n",
       "      <td>14</td>\n",
       "      <td>1004190858</td>\n",
       "      <td>Giving 60 dictionaries to 60 highly energetic ...</td>\n",
       "      <td>2008-11-13 11:55:58</td>\n",
       "    </tr>\n",
       "    <tr>\n",
       "      <th>283</th>\n",
       "      <td>14</td>\n",
       "      <td>4119972522</td>\n",
       "      <td>ound like French summer.</td>\n",
       "      <td>2009-09-20 02:21:31</td>\n",
       "    </tr>\n",
       "    <tr>\n",
       "      <th>284</th>\n",
       "      <td>14</td>\n",
       "      <td>3881145051</td>\n",
       "      <td>fireworks blast over Santa Monica scattering s...</td>\n",
       "      <td>2009-09-09 23:44:42</td>\n",
       "    </tr>\n",
       "    <tr>\n",
       "      <th>285</th>\n",
       "      <td>14</td>\n",
       "      <td>3599227170</td>\n",
       "      <td>today my prototype danced for me. perfect piro...</td>\n",
       "      <td>2009-08-28 03:52:22</td>\n",
       "    </tr>\n",
       "    <tr>\n",
       "      <th>286</th>\n",
       "      <td>14</td>\n",
       "      <td>3324787395</td>\n",
       "      <td>If Kafka gave birth atop the trade center towe...</td>\n",
       "      <td>2009-08-15 02:09:23</td>\n",
       "    </tr>\n",
       "  </tbody>\n",
       "</table>\n",
       "</div>"
      ],
      "text/plain": [
       "     UserID    tTweetID                                             tTweet  \\\n",
       "259      14  1004190858  Giving 60 dictionaries to 60 highly energetic ...   \n",
       "283      14  4119972522                           ound like French summer.   \n",
       "284      14  3881145051  fireworks blast over Santa Monica scattering s...   \n",
       "285      14  3599227170  today my prototype danced for me. perfect piro...   \n",
       "286      14  3324787395  If Kafka gave birth atop the trade center towe...   \n",
       "\n",
       "             tCreatedAt  \n",
       "259 2008-11-13 11:55:58  \n",
       "283 2009-09-20 02:21:31  \n",
       "284 2009-09-09 23:44:42  \n",
       "285 2009-08-28 03:52:22  \n",
       "286 2009-08-15 02:09:23  "
      ]
     },
     "execution_count": 162,
     "metadata": {},
     "output_type": "execute_result"
    }
   ],
   "source": [
    "test_df.sort_values(by='UserID').tail()"
   ]
  },
  {
   "cell_type": "code",
   "execution_count": 162,
   "metadata": {
    "collapsed": false
   },
   "outputs": [
    {
     "data": {
      "text/html": [
       "<div>\n",
       "<table border=\"1\" class=\"dataframe\">\n",
       "  <thead>\n",
       "    <tr style=\"text-align: right;\">\n",
       "      <th></th>\n",
       "      <th>UserID</th>\n",
       "      <th>tTweetID</th>\n",
       "      <th>tTweet</th>\n",
       "      <th>tCreatedAt</th>\n",
       "    </tr>\n",
       "  </thead>\n",
       "  <tbody>\n",
       "    <tr>\n",
       "      <th>259</th>\n",
       "      <td>14</td>\n",
       "      <td>1004190858</td>\n",
       "      <td>Giving 60 dictionaries to 60 highly energetic ...</td>\n",
       "      <td>2008-11-13 11:55:58</td>\n",
       "    </tr>\n",
       "    <tr>\n",
       "      <th>283</th>\n",
       "      <td>14</td>\n",
       "      <td>4119972522</td>\n",
       "      <td>ound like French summer.</td>\n",
       "      <td>2009-09-20 02:21:31</td>\n",
       "    </tr>\n",
       "    <tr>\n",
       "      <th>284</th>\n",
       "      <td>14</td>\n",
       "      <td>3881145051</td>\n",
       "      <td>fireworks blast over Santa Monica scattering s...</td>\n",
       "      <td>2009-09-09 23:44:42</td>\n",
       "    </tr>\n",
       "    <tr>\n",
       "      <th>285</th>\n",
       "      <td>14</td>\n",
       "      <td>3599227170</td>\n",
       "      <td>today my prototype danced for me. perfect piro...</td>\n",
       "      <td>2009-08-28 03:52:22</td>\n",
       "    </tr>\n",
       "    <tr>\n",
       "      <th>286</th>\n",
       "      <td>14</td>\n",
       "      <td>3324787395</td>\n",
       "      <td>If Kafka gave birth atop the trade center towe...</td>\n",
       "      <td>2009-08-15 02:09:23</td>\n",
       "    </tr>\n",
       "  </tbody>\n",
       "</table>\n",
       "</div>"
      ],
      "text/plain": [
       "     UserID    tTweetID                                             tTweet  \\\n",
       "259      14  1004190858  Giving 60 dictionaries to 60 highly energetic ...   \n",
       "283      14  4119972522                           ound like French summer.   \n",
       "284      14  3881145051  fireworks blast over Santa Monica scattering s...   \n",
       "285      14  3599227170  today my prototype danced for me. perfect piro...   \n",
       "286      14  3324787395  If Kafka gave birth atop the trade center towe...   \n",
       "\n",
       "             tCreatedAt  \n",
       "259 2008-11-13 11:55:58  \n",
       "283 2009-09-20 02:21:31  \n",
       "284 2009-09-09 23:44:42  \n",
       "285 2009-08-28 03:52:22  \n",
       "286 2009-08-15 02:09:23  "
      ]
     },
     "execution_count": 162,
     "metadata": {},
     "output_type": "execute_result"
    }
   ],
   "source": [
    "test_df.sort_values(by='tTweetID').head()"
   ]
  },
  {
   "cell_type": "code",
   "execution_count": 162,
   "metadata": {
    "collapsed": false
   },
   "outputs": [
    {
     "data": {
      "text/html": [
       "<div>\n",
       "<table border=\"1\" class=\"dataframe\">\n",
       "  <thead>\n",
       "    <tr style=\"text-align: right;\">\n",
       "      <th></th>\n",
       "      <th>UserID</th>\n",
       "      <th>tTweetID</th>\n",
       "      <th>tTweet</th>\n",
       "      <th>tCreatedAt</th>\n",
       "    </tr>\n",
       "  </thead>\n",
       "  <tbody>\n",
       "    <tr>\n",
       "      <th>259</th>\n",
       "      <td>14</td>\n",
       "      <td>1004190858</td>\n",
       "      <td>Giving 60 dictionaries to 60 highly energetic ...</td>\n",
       "      <td>2008-11-13 11:55:58</td>\n",
       "    </tr>\n",
       "    <tr>\n",
       "      <th>283</th>\n",
       "      <td>14</td>\n",
       "      <td>4119972522</td>\n",
       "      <td>ound like French summer.</td>\n",
       "      <td>2009-09-20 02:21:31</td>\n",
       "    </tr>\n",
       "    <tr>\n",
       "      <th>284</th>\n",
       "      <td>14</td>\n",
       "      <td>3881145051</td>\n",
       "      <td>fireworks blast over Santa Monica scattering s...</td>\n",
       "      <td>2009-09-09 23:44:42</td>\n",
       "    </tr>\n",
       "    <tr>\n",
       "      <th>285</th>\n",
       "      <td>14</td>\n",
       "      <td>3599227170</td>\n",
       "      <td>today my prototype danced for me. perfect piro...</td>\n",
       "      <td>2009-08-28 03:52:22</td>\n",
       "    </tr>\n",
       "    <tr>\n",
       "      <th>286</th>\n",
       "      <td>14</td>\n",
       "      <td>3324787395</td>\n",
       "      <td>If Kafka gave birth atop the trade center towe...</td>\n",
       "      <td>2009-08-15 02:09:23</td>\n",
       "    </tr>\n",
       "  </tbody>\n",
       "</table>\n",
       "</div>"
      ],
      "text/plain": [
       "     UserID    tTweetID                                             tTweet  \\\n",
       "259      14  1004190858  Giving 60 dictionaries to 60 highly energetic ...   \n",
       "283      14  4119972522                           ound like French summer.   \n",
       "284      14  3881145051  fireworks blast over Santa Monica scattering s...   \n",
       "285      14  3599227170  today my prototype danced for me. perfect piro...   \n",
       "286      14  3324787395  If Kafka gave birth atop the trade center towe...   \n",
       "\n",
       "             tCreatedAt  \n",
       "259 2008-11-13 11:55:58  \n",
       "283 2009-09-20 02:21:31  \n",
       "284 2009-09-09 23:44:42  \n",
       "285 2009-08-28 03:52:22  \n",
       "286 2009-08-15 02:09:23  "
      ]
     },
     "execution_count": 162,
     "metadata": {},
     "output_type": "execute_result"
    }
   ],
   "source": [
    "test_df.sort_values(by='tTweetID').tail()"
   ]
  },
  {
   "cell_type": "code",
   "execution_count": 162,
   "metadata": {
    "collapsed": false
   },
   "outputs": [
    {
     "data": {
      "text/html": [
       "<div>\n",
       "<table border=\"1\" class=\"dataframe\">\n",
       "  <thead>\n",
       "    <tr style=\"text-align: right;\">\n",
       "      <th></th>\n",
       "      <th>UserID</th>\n",
       "      <th>tTweetID</th>\n",
       "      <th>tTweet</th>\n",
       "      <th>tCreatedAt</th>\n",
       "    </tr>\n",
       "  </thead>\n",
       "  <tbody>\n",
       "    <tr>\n",
       "      <th>259</th>\n",
       "      <td>14</td>\n",
       "      <td>1004190858</td>\n",
       "      <td>Giving 60 dictionaries to 60 highly energetic ...</td>\n",
       "      <td>2008-11-13 11:55:58</td>\n",
       "    </tr>\n",
       "    <tr>\n",
       "      <th>283</th>\n",
       "      <td>14</td>\n",
       "      <td>4119972522</td>\n",
       "      <td>ound like French summer.</td>\n",
       "      <td>2009-09-20 02:21:31</td>\n",
       "    </tr>\n",
       "    <tr>\n",
       "      <th>284</th>\n",
       "      <td>14</td>\n",
       "      <td>3881145051</td>\n",
       "      <td>fireworks blast over Santa Monica scattering s...</td>\n",
       "      <td>2009-09-09 23:44:42</td>\n",
       "    </tr>\n",
       "    <tr>\n",
       "      <th>285</th>\n",
       "      <td>14</td>\n",
       "      <td>3599227170</td>\n",
       "      <td>today my prototype danced for me. perfect piro...</td>\n",
       "      <td>2009-08-28 03:52:22</td>\n",
       "    </tr>\n",
       "    <tr>\n",
       "      <th>286</th>\n",
       "      <td>14</td>\n",
       "      <td>3324787395</td>\n",
       "      <td>If Kafka gave birth atop the trade center towe...</td>\n",
       "      <td>2009-08-15 02:09:23</td>\n",
       "    </tr>\n",
       "  </tbody>\n",
       "</table>\n",
       "</div>"
      ],
      "text/plain": [
       "     UserID    tTweetID                                             tTweet  \\\n",
       "259      14  1004190858  Giving 60 dictionaries to 60 highly energetic ...   \n",
       "283      14  4119972522                           ound like French summer.   \n",
       "284      14  3881145051  fireworks blast over Santa Monica scattering s...   \n",
       "285      14  3599227170  today my prototype danced for me. perfect piro...   \n",
       "286      14  3324787395  If Kafka gave birth atop the trade center towe...   \n",
       "\n",
       "             tCreatedAt  \n",
       "259 2008-11-13 11:55:58  \n",
       "283 2009-09-20 02:21:31  \n",
       "284 2009-09-09 23:44:42  \n",
       "285 2009-08-28 03:52:22  \n",
       "286 2009-08-15 02:09:23  "
      ]
     },
     "execution_count": 162,
     "metadata": {},
     "output_type": "execute_result"
    }
   ],
   "source": [
    "test_df.sort_values(by='tTweet').head()"
   ]
  },
  {
   "cell_type": "code",
   "execution_count": 162,
   "metadata": {
    "collapsed": false
   },
   "outputs": [
    {
     "data": {
      "text/html": [
       "<div>\n",
       "<table border=\"1\" class=\"dataframe\">\n",
       "  <thead>\n",
       "    <tr style=\"text-align: right;\">\n",
       "      <th></th>\n",
       "      <th>UserID</th>\n",
       "      <th>tTweetID</th>\n",
       "      <th>tTweet</th>\n",
       "      <th>tCreatedAt</th>\n",
       "    </tr>\n",
       "  </thead>\n",
       "  <tbody>\n",
       "    <tr>\n",
       "      <th>259</th>\n",
       "      <td>14</td>\n",
       "      <td>1004190858</td>\n",
       "      <td>Giving 60 dictionaries to 60 highly energetic ...</td>\n",
       "      <td>2008-11-13 11:55:58</td>\n",
       "    </tr>\n",
       "    <tr>\n",
       "      <th>283</th>\n",
       "      <td>14</td>\n",
       "      <td>4119972522</td>\n",
       "      <td>ound like French summer.</td>\n",
       "      <td>2009-09-20 02:21:31</td>\n",
       "    </tr>\n",
       "    <tr>\n",
       "      <th>284</th>\n",
       "      <td>14</td>\n",
       "      <td>3881145051</td>\n",
       "      <td>fireworks blast over Santa Monica scattering s...</td>\n",
       "      <td>2009-09-09 23:44:42</td>\n",
       "    </tr>\n",
       "    <tr>\n",
       "      <th>285</th>\n",
       "      <td>14</td>\n",
       "      <td>3599227170</td>\n",
       "      <td>today my prototype danced for me. perfect piro...</td>\n",
       "      <td>2009-08-28 03:52:22</td>\n",
       "    </tr>\n",
       "    <tr>\n",
       "      <th>286</th>\n",
       "      <td>14</td>\n",
       "      <td>3324787395</td>\n",
       "      <td>If Kafka gave birth atop the trade center towe...</td>\n",
       "      <td>2009-08-15 02:09:23</td>\n",
       "    </tr>\n",
       "  </tbody>\n",
       "</table>\n",
       "</div>"
      ],
      "text/plain": [
       "     UserID    tTweetID                                             tTweet  \\\n",
       "259      14  1004190858  Giving 60 dictionaries to 60 highly energetic ...   \n",
       "283      14  4119972522                           ound like French summer.   \n",
       "284      14  3881145051  fireworks blast over Santa Monica scattering s...   \n",
       "285      14  3599227170  today my prototype danced for me. perfect piro...   \n",
       "286      14  3324787395  If Kafka gave birth atop the trade center towe...   \n",
       "\n",
       "             tCreatedAt  \n",
       "259 2008-11-13 11:55:58  \n",
       "283 2009-09-20 02:21:31  \n",
       "284 2009-09-09 23:44:42  \n",
       "285 2009-08-28 03:52:22  \n",
       "286 2009-08-15 02:09:23  "
      ]
     },
     "execution_count": 162,
     "metadata": {},
     "output_type": "execute_result"
    }
   ],
   "source": [
    "test_df.sort_values(by='tTweet').tail()"
   ]
  },
  {
   "cell_type": "code",
   "execution_count": 162,
   "metadata": {
    "collapsed": false
   },
   "outputs": [
    {
     "data": {
      "text/html": [
       "<div>\n",
       "<table border=\"1\" class=\"dataframe\">\n",
       "  <thead>\n",
       "    <tr style=\"text-align: right;\">\n",
       "      <th></th>\n",
       "      <th>UserID</th>\n",
       "      <th>tTweetID</th>\n",
       "      <th>tTweet</th>\n",
       "      <th>tCreatedAt</th>\n",
       "    </tr>\n",
       "  </thead>\n",
       "  <tbody>\n",
       "    <tr>\n",
       "      <th>259</th>\n",
       "      <td>14</td>\n",
       "      <td>1004190858</td>\n",
       "      <td>Giving 60 dictionaries to 60 highly energetic ...</td>\n",
       "      <td>2008-11-13 11:55:58</td>\n",
       "    </tr>\n",
       "    <tr>\n",
       "      <th>283</th>\n",
       "      <td>14</td>\n",
       "      <td>4119972522</td>\n",
       "      <td>ound like French summer.</td>\n",
       "      <td>2009-09-20 02:21:31</td>\n",
       "    </tr>\n",
       "    <tr>\n",
       "      <th>284</th>\n",
       "      <td>14</td>\n",
       "      <td>3881145051</td>\n",
       "      <td>fireworks blast over Santa Monica scattering s...</td>\n",
       "      <td>2009-09-09 23:44:42</td>\n",
       "    </tr>\n",
       "    <tr>\n",
       "      <th>285</th>\n",
       "      <td>14</td>\n",
       "      <td>3599227170</td>\n",
       "      <td>today my prototype danced for me. perfect piro...</td>\n",
       "      <td>2009-08-28 03:52:22</td>\n",
       "    </tr>\n",
       "    <tr>\n",
       "      <th>286</th>\n",
       "      <td>14</td>\n",
       "      <td>3324787395</td>\n",
       "      <td>If Kafka gave birth atop the trade center towe...</td>\n",
       "      <td>2009-08-15 02:09:23</td>\n",
       "    </tr>\n",
       "  </tbody>\n",
       "</table>\n",
       "</div>"
      ],
      "text/plain": [
       "     UserID    tTweetID                                             tTweet  \\\n",
       "259      14  1004190858  Giving 60 dictionaries to 60 highly energetic ...   \n",
       "283      14  4119972522                           ound like French summer.   \n",
       "284      14  3881145051  fireworks blast over Santa Monica scattering s...   \n",
       "285      14  3599227170  today my prototype danced for me. perfect piro...   \n",
       "286      14  3324787395  If Kafka gave birth atop the trade center towe...   \n",
       "\n",
       "             tCreatedAt  \n",
       "259 2008-11-13 11:55:58  \n",
       "283 2009-09-20 02:21:31  \n",
       "284 2009-09-09 23:44:42  \n",
       "285 2009-08-28 03:52:22  \n",
       "286 2009-08-15 02:09:23  "
      ]
     },
     "execution_count": 162,
     "metadata": {},
     "output_type": "execute_result"
    }
   ],
   "source": [
    "test_df.sort_values(by='tCreatedAt').head()"
   ]
  },
  {
   "cell_type": "code",
   "execution_count": 170,
   "metadata": {
    "collapsed": false
   },
   "outputs": [
    {
     "data": {
      "text/html": [
       "<div>\n",
       "<table border=\"1\" class=\"dataframe\">\n",
       "  <thead>\n",
       "    <tr style=\"text-align: right;\">\n",
       "      <th></th>\n",
       "      <th>UserID</th>\n",
       "      <th>tTweetID</th>\n",
       "      <th>tTweet</th>\n",
       "      <th>tCreatedAt</th>\n",
       "    </tr>\n",
       "  </thead>\n",
       "  <tbody>\n",
       "    <tr>\n",
       "      <th>4425852</th>\n",
       "      <td>15342502</td>\n",
       "      <td>10617707268</td>\n",
       "      <td>Bout to nap it up, please DND.</td>\n",
       "      <td>2010-03-17 06:49:15</td>\n",
       "    </tr>\n",
       "    <tr>\n",
       "      <th>2427177</th>\n",
       "      <td>50765154</td>\n",
       "      <td>10617911844</td>\n",
       "      <td>Made it to work ontime! Now I need spmeone to ...</td>\n",
       "      <td>2010-03-17 06:55:50</td>\n",
       "    </tr>\n",
       "    <tr>\n",
       "      <th>1384903</th>\n",
       "      <td>18782786</td>\n",
       "      <td>10618404437</td>\n",
       "      <td>@wizwow, thanks for yet another insightful pos...</td>\n",
       "      <td>2010-03-17 07:10:55</td>\n",
       "    </tr>\n",
       "    <tr>\n",
       "      <th>3119490</th>\n",
       "      <td>26962064</td>\n",
       "      <td>10618517948</td>\n",
       "      <td>@MiszTdott when I pointless text you, you poin...</td>\n",
       "      <td>2010-03-17 07:14:22</td>\n",
       "    </tr>\n",
       "    <tr>\n",
       "      <th>235010</th>\n",
       "      <td>15458701</td>\n",
       "      <td>10619091335</td>\n",
       "      <td>Preach Jesus Christ first and foremost as a ma...</td>\n",
       "      <td>2010-03-17 07:31:11</td>\n",
       "    </tr>\n",
       "  </tbody>\n",
       "</table>\n",
       "</div>"
      ],
      "text/plain": [
       "           UserID     tTweetID  \\\n",
       "4425852  15342502  10617707268   \n",
       "2427177  50765154  10617911844   \n",
       "1384903  18782786  10618404437   \n",
       "3119490  26962064  10618517948   \n",
       "235010   15458701  10619091335   \n",
       "\n",
       "                                                    tTweet          tCreatedAt  \n",
       "4425852                     Bout to nap it up, please DND. 2010-03-17 06:49:15  \n",
       "2427177  Made it to work ontime! Now I need spmeone to ... 2010-03-17 06:55:50  \n",
       "1384903  @wizwow, thanks for yet another insightful pos... 2010-03-17 07:10:55  \n",
       "3119490  @MiszTdott when I pointless text you, you poin... 2010-03-17 07:14:22  \n",
       "235010   Preach Jesus Christ first and foremost as a ma... 2010-03-17 07:31:11  "
      ]
     },
     "execution_count": 170,
     "metadata": {},
     "output_type": "execute_result"
    }
   ],
   "source": [
    "test_df.sort_values(by='tCreatedAt').tail()"
   ]
  },
  {
   "cell_type": "markdown",
   "metadata": {
    "collapsed": true
   },
   "source": [
    "---  \n",
    "  \n",
    "### - Step 5: Write out the restructured datasets for future ingestion"
   ]
  },
  {
   "cell_type": "code",
   "execution_count": 171,
   "metadata": {
    "collapsed": true
   },
   "outputs": [],
   "source": [
    "## WRITE OUT RESTRUCTURED DATA TO CSV:\n",
    "\n",
    "train_df.to_csv('./Data/corrected_training_set_tweets.csv')\n",
    "test_df.to_csv('./Data/corrected_test_set_tweets.csv')"
   ]
  }
 ],
 "metadata": {
  "kernelspec": {
   "display_name": "Python 3",
   "language": "python",
   "name": "python3"
  },
  "language_info": {
   "codemirror_mode": {
    "name": "ipython",
    "version": 3
   },
   "file_extension": ".py",
   "mimetype": "text/x-python",
   "name": "python",
   "nbconvert_exporter": "python",
   "pygments_lexer": "ipython3",
   "version": "3.4.5"
  }
 },
 "nbformat": 4,
 "nbformat_minor": 2
}
