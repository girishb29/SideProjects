{
 "cells": [
  {
   "cell_type": "markdown",
   "metadata": {},
   "source": [
    "# NLP Example, Twitter Tweets <img style=\"float: right; width: 310px;\" src=\"./Data/Twitter_Logo.jpg\"/>  \n",
    "  \n",
    "---  \n",
    "\n",
    "### By: Heather M. Steich, M.S.\n",
    "### Date: October 29$^{th}$, 2017\n",
    "### Written in: Python 3.4.5"
   ]
  },
  {
   "cell_type": "code",
   "execution_count": 1,
   "metadata": {
    "collapsed": false
   },
   "outputs": [
    {
     "name": "stdout",
     "output_type": "stream",
     "text": [
      "3.4.5 |Anaconda custom (64-bit)| (default, Jul  5 2016, 14:53:07) [MSC v.1600 64 bit (AMD64)]\n"
     ]
    }
   ],
   "source": [
    "import sys\n",
    "print(sys.version)"
   ]
  },
  {
   "cell_type": "markdown",
   "metadata": {},
   "source": [
    "---  \n",
    "  \n",
    "## Dataset Credit  \n",
    "  \n",
    "  \n",
    "The data used for this project is used with permission (if cited) from the following source:  \n",
    "\n",
    "    Z. Cheng, J. Caverlee, and K. Lee. You Are Where You Tweet: A Content-Based Approach to Geo-locating Twitter Users. \n",
    "    In Proceeding of the 19th ACM Conference on Information and Knowledge Management (CIKM), Toronto, Oct 2010. (Bibtex)\n",
    "\n",
    "<https://archive.org/details/twitter_cikm_2010><img style=\"float: center;\" src=\"./Data/paper_logo.gif\">"
   ]
  },
  {
   "cell_type": "markdown",
   "metadata": {},
   "source": [
    "---  \n",
    "\n",
    "## Overview\n",
    "\n",
    "The goal of the exercise is to extract information about concert appearances of musicians, performers or bands.  For each such tweet, we are looking to extract:  \n",
    "\n",
    " - Who was the performer  \n",
    " - When was the show  \n",
    " - Where was the show  \n",
    " - The Tweeter user who attended it  \n",
    " - The sentiment of the tweet  \n",
    "   \n",
    "Not all of these fields are available in all tweets, and that’s ok.  "
   ]
  },
  {
   "cell_type": "markdown",
   "metadata": {},
   "source": [
    "Each row in the dataset includes the user id who sent the tweet and the timestamp for the tweet. For the ‘when’ field, we are interested in the date of the show (not just the tweet). We are not interested in any other tweets, including tweets about performers which don’t mention concerts."
   ]
  },
  {
   "cell_type": "markdown",
   "metadata": {},
   "source": [
    "---  \n",
    "  \n",
    "### Part 1: Classify if the tweets are relevant"
   ]
  },
  {
   "cell_type": "code",
   "execution_count": 2,
   "metadata": {
    "collapsed": true
   },
   "outputs": [],
   "source": [
    "## LOAD LIBRARIES\n",
    "\n",
    "# Data wrangling & processing: \n",
    "import numpy as np\n",
    "import pandas as pd\n",
    "\n",
    "# Machine learning:\n",
    "#from sklearn.preprocessing import StandardScaler\n",
    "#from sklearn.model_selection import train_test_split\n",
    "#from sklearn.ensemble import RandomForestClassifier as RF\n",
    "#from sklearn.metrics import confusion_matrix\n",
    "#from pandas_ml import ConfusionMatrix\n",
    "#from sklearn.metrics import roc_curve\n",
    "#from sklearn.ensemble import RandomForestRegressor as RFR\n",
    "\n",
    "# Plotting:\n",
    "import matplotlib as mpl\n",
    "import matplotlib.pyplot as plt\n",
    "import seaborn as sns\n",
    "#from IPython.display import display, HTML\n",
    "\n",
    "# Remove warning messages:\n",
    "#import warnings\n",
    "#warnings.filterwarnings('ignore')"
   ]
  },
  {
   "cell_type": "code",
   "execution_count": 3,
   "metadata": {
    "collapsed": true
   },
   "outputs": [],
   "source": [
    "## ESTABLISH PLOT FORMATTING\n",
    "\n",
    "#mpl.rcdefaults()  # Resets plot defaults\n",
    "\n",
    "def plt_format():\n",
    "    %matplotlib inline\n",
    "    plt.rcParams['figure.figsize'] = (16, 10)\n",
    "    plt.rcParams['font.size'] = 16\n",
    "    plt.rcParams['font.family'] = 'Times New Roman'\n",
    "    plt.rcParams['axes.labelcolor'] = 'black'\n",
    "    plt.rcParams['axes.labelsize'] = 20\n",
    "    plt.rcParams['axes.labelweight'] = 'bold'\n",
    "    plt.rcParams['axes.titlesize'] = 32\n",
    "    plt.rcParams['axes.titleweight'] = 'bold'\n",
    "    plt.rcParams['legend.fontsize'] = 16\n",
    "    plt.rcParams['legend.markerscale'] = 4\n",
    "    plt.rcParams['text.color'] = 'black'\n",
    "    plt.rcParams['xtick.labelsize'] = 20\n",
    "    plt.rcParams['ytick.labelsize'] = 20\n",
    "    plt.rcParams['legend.fontsize'] = 16\n",
    "    plt.rcParams['legend.frameon'] = False\n",
    "    plt.rcParams['axes.linewidth'] = 1\n",
    "\n",
    "#plt.rcParams.keys()  # Available rcParams\n",
    "plt_format()"
   ]
  },
  {
   "cell_type": "markdown",
   "metadata": {},
   "source": [
    " - Step 2: Load, view & prepare the provided data"
   ]
  },
  {
   "cell_type": "code",
   "execution_count": 18,
   "metadata": {
    "collapsed": false
   },
   "outputs": [
    {
     "name": "stdout",
     "output_type": "stream",
     "text": [
      "Train Shape: (3741881, 4)\n",
      "Train Column Names: Index(['UserID', 'tTweetID', 'tTweet', 'tCreatedAt'], dtype='object')\n",
      "\n",
      "Test Shape: (5125748, 4)\n",
      "Test Column Names: Index(['UserID', 'tTweetID', 'tTweet', 'tCreatedAt'], dtype='object')\n"
     ]
    }
   ],
   "source": [
    "## LOAD DATA:\n",
    "\n",
    "# Read in the files:\n",
    "train = pd.read_csv(\"./Data/corrected_training_set_tweets.csv\")\n",
    "test = pd.read_csv(\"./Data/corrected_test_set_tweets.csv\")\n",
    "\n",
    "# Translate the timestamps to DateTime objects:\n",
    "train.tCreatedAt = pd.to_datetime(train.tCreatedAt)\n",
    "test.tCreatedAt = pd.to_datetime(test.tCreatedAt)\n",
    "\n",
    "# Print shapes:\n",
    "print('Train Shape:', train.shape)\n",
    "print('Train Column Names:', train.columns)\n",
    "print('\\nTest Shape:', test.shape)\n",
    "print('Test Column Names:', test.columns)"
   ]
  },
  {
   "cell_type": "code",
   "execution_count": 15,
   "metadata": {
    "collapsed": false
   },
   "outputs": [
    {
     "data": {
      "text/html": [
       "<div>\n",
       "<table border=\"1\" class=\"dataframe\">\n",
       "  <thead>\n",
       "    <tr style=\"text-align: right;\">\n",
       "      <th></th>\n",
       "      <th>UserID</th>\n",
       "      <th>tTweetID</th>\n",
       "      <th>tTweet</th>\n",
       "      <th>tCreatedAt</th>\n",
       "    </tr>\n",
       "  </thead>\n",
       "  <tbody>\n",
       "    <tr>\n",
       "      <th>0</th>\n",
       "      <td>60730027</td>\n",
       "      <td>6320951896</td>\n",
       "      <td>@thediscovietnam coo.  thanks. just dropped yo...</td>\n",
       "      <td>2009-12-03 18:41:07</td>\n",
       "    </tr>\n",
       "    <tr>\n",
       "      <th>1</th>\n",
       "      <td>60730027</td>\n",
       "      <td>6320673258</td>\n",
       "      <td>@thediscovietnam shit it ain't lettin me DM yo...</td>\n",
       "      <td>2009-12-03 18:31:01</td>\n",
       "    </tr>\n",
       "    <tr>\n",
       "      <th>2</th>\n",
       "      <td>60730027</td>\n",
       "      <td>6319871652</td>\n",
       "      <td>@thediscovietnam hey cody, quick question...ca...</td>\n",
       "      <td>2009-12-03 18:01:51</td>\n",
       "    </tr>\n",
       "    <tr>\n",
       "      <th>3</th>\n",
       "      <td>60730027</td>\n",
       "      <td>6318151501</td>\n",
       "      <td>@smokinvinyl dang.  you need anything?  I got ...</td>\n",
       "      <td>2009-12-03 17:00:16</td>\n",
       "    </tr>\n",
       "    <tr>\n",
       "      <th>4</th>\n",
       "      <td>60730027</td>\n",
       "      <td>6317932721</td>\n",
       "      <td>maybe i'm late in the game on this one, but th...</td>\n",
       "      <td>2009-12-03 16:52:36</td>\n",
       "    </tr>\n",
       "  </tbody>\n",
       "</table>\n",
       "</div>"
      ],
      "text/plain": [
       "     UserID    tTweetID                                             tTweet  \\\n",
       "0  60730027  6320951896  @thediscovietnam coo.  thanks. just dropped yo...   \n",
       "1  60730027  6320673258  @thediscovietnam shit it ain't lettin me DM yo...   \n",
       "2  60730027  6319871652  @thediscovietnam hey cody, quick question...ca...   \n",
       "3  60730027  6318151501  @smokinvinyl dang.  you need anything?  I got ...   \n",
       "4  60730027  6317932721  maybe i'm late in the game on this one, but th...   \n",
       "\n",
       "            tCreatedAt  \n",
       "0  2009-12-03 18:41:07  \n",
       "1  2009-12-03 18:31:01  \n",
       "2  2009-12-03 18:01:51  \n",
       "3  2009-12-03 17:00:16  \n",
       "4  2009-12-03 16:52:36  "
      ]
     },
     "execution_count": 15,
     "metadata": {},
     "output_type": "execute_result"
    }
   ],
   "source": [
    "## PRINT A PREVIEW OF THE DATAFRAMES:\n",
    "\n",
    "train.head()"
   ]
  },
  {
   "cell_type": "code",
   "execution_count": 16,
   "metadata": {
    "collapsed": false
   },
   "outputs": [
    {
     "data": {
      "text/html": [
       "<div>\n",
       "<table border=\"1\" class=\"dataframe\">\n",
       "  <thead>\n",
       "    <tr style=\"text-align: right;\">\n",
       "      <th></th>\n",
       "      <th>UserID</th>\n",
       "      <th>tTweetID</th>\n",
       "      <th>tTweet</th>\n",
       "      <th>tCreatedAt</th>\n",
       "    </tr>\n",
       "  </thead>\n",
       "  <tbody>\n",
       "    <tr>\n",
       "      <th>0</th>\n",
       "      <td>22077441</td>\n",
       "      <td>10538487904</td>\n",
       "      <td>Ok today I have to find something to wear for ...</td>\n",
       "      <td>2010-03-15 17:35:58</td>\n",
       "    </tr>\n",
       "    <tr>\n",
       "      <th>1</th>\n",
       "      <td>22077441</td>\n",
       "      <td>10536835844</td>\n",
       "      <td>I am glad I'm having this show but I can't wai...</td>\n",
       "      <td>2010-03-15 16:53:44</td>\n",
       "    </tr>\n",
       "    <tr>\n",
       "      <th>2</th>\n",
       "      <td>22077441</td>\n",
       "      <td>10536809086</td>\n",
       "      <td>Honestly I don't even know what's going on any...</td>\n",
       "      <td>2010-03-15 16:52:59</td>\n",
       "    </tr>\n",
       "    <tr>\n",
       "      <th>3</th>\n",
       "      <td>22077441</td>\n",
       "      <td>10534149786</td>\n",
       "      <td>@LovelyJ_Janelle hey sorry I'm sitting infront...</td>\n",
       "      <td>2010-03-15 15:42:07</td>\n",
       "    </tr>\n",
       "    <tr>\n",
       "      <th>4</th>\n",
       "      <td>22077441</td>\n",
       "      <td>10530203659</td>\n",
       "      <td>Sitting infront of this sewing machine ... I d...</td>\n",
       "      <td>2010-03-15 13:55:22</td>\n",
       "    </tr>\n",
       "  </tbody>\n",
       "</table>\n",
       "</div>"
      ],
      "text/plain": [
       "     UserID     tTweetID                                             tTweet  \\\n",
       "0  22077441  10538487904  Ok today I have to find something to wear for ...   \n",
       "1  22077441  10536835844  I am glad I'm having this show but I can't wai...   \n",
       "2  22077441  10536809086  Honestly I don't even know what's going on any...   \n",
       "3  22077441  10534149786  @LovelyJ_Janelle hey sorry I'm sitting infront...   \n",
       "4  22077441  10530203659  Sitting infront of this sewing machine ... I d...   \n",
       "\n",
       "            tCreatedAt  \n",
       "0  2010-03-15 17:35:58  \n",
       "1  2010-03-15 16:53:44  \n",
       "2  2010-03-15 16:52:59  \n",
       "3  2010-03-15 15:42:07  \n",
       "4  2010-03-15 13:55:22  "
      ]
     },
     "execution_count": 16,
     "metadata": {},
     "output_type": "execute_result"
    }
   ],
   "source": [
    "test.head()"
   ]
  },
  {
   "cell_type": "code",
   "execution_count": 19,
   "metadata": {
    "collapsed": false
   },
   "outputs": [
    {
     "name": "stdout",
     "output_type": "stream",
     "text": [
      "Training:\n",
      " UserID                 int64\n",
      "tTweetID               int64\n",
      "tTweet                object\n",
      "tCreatedAt    datetime64[ns]\n",
      "dtype: object\n",
      "\n",
      "Testing:\n",
      " UserID                 int64\n",
      "tTweetID               int64\n",
      "tTweet                object\n",
      "tCreatedAt    datetime64[ns]\n",
      "dtype: object\n"
     ]
    }
   ],
   "source": [
    "## CHECK DATA TYPES:\n",
    "\n",
    "print('Training:\\n', train.dtypes)\n",
    "print('\\nTesting:\\n', test.dtypes)"
   ]
  },
  {
   "cell_type": "code",
   "execution_count": null,
   "metadata": {
    "collapsed": true
   },
   "outputs": [],
   "source": []
  },
  {
   "cell_type": "code",
   "execution_count": null,
   "metadata": {
    "collapsed": true
   },
   "outputs": [],
   "source": []
  },
  {
   "cell_type": "code",
   "execution_count": null,
   "metadata": {
    "collapsed": true
   },
   "outputs": [],
   "source": []
  },
  {
   "cell_type": "code",
   "execution_count": null,
   "metadata": {
    "collapsed": true
   },
   "outputs": [],
   "source": []
  }
 ],
 "metadata": {
  "kernelspec": {
   "display_name": "Python 3",
   "language": "python",
   "name": "python3"
  },
  "language_info": {
   "codemirror_mode": {
    "name": "ipython",
    "version": 3
   },
   "file_extension": ".py",
   "mimetype": "text/x-python",
   "name": "python",
   "nbconvert_exporter": "python",
   "pygments_lexer": "ipython3",
   "version": "3.4.5"
  }
 },
 "nbformat": 4,
 "nbformat_minor": 2
}
